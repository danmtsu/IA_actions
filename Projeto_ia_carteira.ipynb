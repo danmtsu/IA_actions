{
 "cells": [
  {
   "cell_type": "markdown",
   "metadata": {
    "id": "5bfg-GegjdBm"
   },
   "source": [
    "# Projeto Ciencia de Dados: Carteira de Ações com Inteligência Artificial\n",
    "\n",
    "- Projeto Inspiração: https://medium.com/swlh/teaching-a-machine-to-trade-stocks-like-warren-buffett-part-i-445849b208c6\n",
    "- Resumo Fundamentos Empresas BR: https://fundamentus.com.br/index.php"
   ]
  },
  {
   "cell_type": "markdown",
   "metadata": {
    "id": "9fSQNe9ZjdBp"
   },
   "source": [
    "### Criar Dicionários de Dataframes com cada empresa"
   ]
  },
  {
   "cell_type": "code",
   "execution_count": null,
   "metadata": {},
   "outputs": [],
   "source": [
    "import pandas as pd\n",
    "import os\n",
    "\n",
    "# Lista de empresas\n",
    "empresas = [\"ABEV3\", \"AZUL4\", \"BTOW3\", \"B3SA3\", \"BBSE3\", \"BRML3\", \"BBDC4\", \"BRAP4\", \"BBAS3\", \"BRKM5\", \n",
    "            \"BRFS3\", \"BPAC11\", \"CRFB3\", \"CCRO3\", \"CMIG4\", \"HGTX3\", \"CIEL3\", \"COGN3\", \"CPLE6\", \"CSAN3\", \n",
    "            \"CPFE3\", \"CVCB3\", \"CYRE3\", \"ECOR3\", \"ELET6\", \"EMBR3\", \"ENBR3\", \"ENGI11\", \"ENEV3\", \"EGIE3\", \n",
    "            \"EQTL3\", \"EZTC3\", \"FLRY3\", \"GGBR4\", \"GOAU4\", \"GOLL4\", \"NTCO3\", \"HAPV3\", \"HYPE3\", \"IGTA3\", \n",
    "            \"GNDI3\", \"ITSA4\", \"ITUB4\", \"JBSS3\", \"JHSF3\", \"KLBN11\", \"RENT3\", \"LCAM3\", \"LAME4\", \"LREN3\", \n",
    "            \"MGLU3\", \"MRFG3\", \"BEEF3\", \"MRVE3\", \"MULT3\", \"PCAR3\", \"PETR4\", \"BRDT3\", \"PRIO3\", \"QUAL3\", \n",
    "            \"RADL3\", \"RAIL3\", \"SBSP3\", \"SANB11\", \"CSNA3\", \"SULA11\", \"SUZB3\", \"TAEE11\", \"VIVT3\", \"TIMS3\", \n",
    "            \"TOTS3\", \"UGPA3\", \"USIM5\", \"VALE3\", \"VVAR3\", \"WEGE3\", \"YDUQ3\"]\n",
    "\n",
    "# Dicionário para armazenar os dados\n",
    "fundamentos = {}\n",
    "\n",
    "# Diretório dos arquivos\n",
    "diretorio = \"IA_carteira45Z/balancos-20240720T050244Z-001/balancos\"\n",
    "\n",
    "# Listar os arquivos no diretório\n",
    "arquivos = os.listdir(diretorio)\n",
    "\n",
    "# Loop através dos arquivos\n",
    "for arquivo in arquivos:\n",
    "    # Extrair o nome do arquivo\n",
    "    nome = arquivo[-9:-4]\n",
    "    if \"11\" in nome:\n",
    "        nome = arquivo[-10:-4]\n",
    "    \n",
    "    # Verificar se o nome está na lista de empresas\n",
    "    if nome in empresas:\n",
    "        print(nome)\n",
    "        # Construir o caminho completo para o arquivo\n",
    "        caminho_arquivo = os.path.join(diretorio, arquivo)\n",
    "\n",
    "        # Ler os dados dos arquivos Excel\n",
    "        balanco = pd.read_excel(caminho_arquivo, sheet_name=0, engine='xlrd')\n",
    "        dre = pd.read_excel(caminho_arquivo, sheet_name=1, engine='xlrd')\n",
    "\n",
    "        # Manipulação dos DataFrames\n",
    "        balanco.iloc[0, 0] = nome\n",
    "        balanco.columns = balanco.iloc[0]\n",
    "        balanco = balanco[1:]\n",
    "        balanco = balanco.set_index(nome)\n",
    "        \n",
    "        dre.iloc[0, 0] = nome\n",
    "        dre.columns = dre.iloc[0]\n",
    "        dre = dre[1:]\n",
    "        dre = dre.set_index(nome)\n",
    "\n",
    "        # Adicionar ao dicionário fundamentos\n",
    "        fundamentos[nome] = pd.concat([balanco, dre])\n",
    "\n",
    "# Exibir o resultado\n",
    "for empresa, dados in fundamentos.items():\n",
    "    print(f\"Empresa: {empresa}\")\n",
    "    display(dados)\n"
   ]
  },
  {
   "cell_type": "markdown",
   "metadata": {
    "id": "N0DmWY75jdBq"
   },
   "source": [
    "### Pegar Preços das Ações nas Datas Correspondentes"
   ]
  },
  {
   "cell_type": "code",
   "execution_count": null,
   "metadata": {
    "id": "E3omcH8MjdBq"
   },
   "outputs": [],
   "source": [
    "cotacoes_df = pd.read_excel(\"IA_carteira45Z/Cotacoes.xlsx\")\n",
    "cotacoes = {}\n",
    "for empresa in cotacoes_df[\"Empresa\"].unique():\n",
    "    cotacoes[empresa] = cotacoes_df.loc[cotacoes_df['Empresa']==empresa, :]\n",
    "\n",
    "print(len(cotacoes))"
   ]
  },
  {
   "cell_type": "markdown",
   "metadata": {
    "id": "uNcPxF7pjdBq"
   },
   "source": [
    "### Remover empresas que tem cotações vazias da análise (mesmo após o tratamento que fizemos na hora de pegar as cotações)"
   ]
  },
  {
   "cell_type": "code",
   "execution_count": null,
   "metadata": {
    "id": "tNqRsVVPjdBq"
   },
   "outputs": [],
   "source": [
    "for empresa in empresas:\n",
    "    if cotacoes[empresa].isnull().values.any():\n",
    "        cotacoes.pop(empresa)\n",
    "        fundamentos.pop(empresa)\n",
    "empresas = list(cotacoes.keys())\n",
    "print(len(empresas))"
   ]
  },
  {
   "cell_type": "markdown",
   "metadata": {
    "id": "ZyViQSEljdBr"
   },
   "source": [
    "### Juntar fundamentos com Preço da Ação"
   ]
  },
  {
   "cell_type": "code",
   "execution_count": null,
   "metadata": {
    "id": "TCj6XCSIjdBr"
   },
   "outputs": [],
   "source": [
    "# no cotacoes: jogar as datas para índice\n",
    "# no fundamnetos:\n",
    "    # trocar linhas por colunas\n",
    "    # tratar as datas para formato de data do python\n",
    "    # juntar os fundamentos com a coluna Adj Close das cotacoes\n",
    "for empresa in fundamentos:\n",
    "    tabela = fundamentos[empresa].T\n",
    "    tabela.index = pd.to_datetime(tabela.index, format=\"%d/%m/%Y\")\n",
    "    tabela_cotacao = cotacoes[empresa].set_index(\"Date\")\n",
    "    tabela_cotacao = tabela_cotacao[[\"Adj Close\"]]\n",
    "    \n",
    "    tabela = tabela.merge(tabela_cotacao, right_index=True, left_index=True)\n",
    "    tabela.index.name = empresa\n",
    "    fundamentos[empresa] = tabela\n",
    "display(fundamentos[\"ABEV3\"])"
   ]
  },
  {
   "cell_type": "markdown",
   "metadata": {
    "id": "4Wl8baGCjdBr"
   },
   "source": [
    "### Tratar colunas\n",
    "    \n",
    "1. Vamos pegar apenas empresas que possuem as mesmas colunas\n",
    "2. Ajeitar colunas com nome repetido\n",
    "3. Analisar valores vazios nas colunas"
   ]
  },
  {
   "cell_type": "markdown",
   "metadata": {
    "id": "Ulq6FCXrjdBr"
   },
   "source": [
    "#### 1. Remover da análise colunas que não existem em alguma tabela"
   ]
  },
  {
   "cell_type": "code",
   "execution_count": null,
   "metadata": {
    "id": "UdqmSrUpjdBr"
   },
   "outputs": [],
   "source": []
  },
  {
   "cell_type": "markdown",
   "metadata": {
    "id": "uwaZvCO8jdBr"
   },
   "source": [
    "####  2. Ajeitando colunas com o mesmo nome"
   ]
  },
  {
   "cell_type": "code",
   "execution_count": null,
   "metadata": {
    "id": "2P3fvfoUjdBs"
   },
   "outputs": [],
   "source": []
  },
  {
   "cell_type": "markdown",
   "metadata": {
    "id": "z_ahSTSJjdBs"
   },
   "source": [
    "#### 3. Analisar valores vazios nas colunas"
   ]
  },
  {
   "cell_type": "code",
   "execution_count": null,
   "metadata": {
    "id": "UFK0g6MxjdBs"
   },
   "outputs": [],
   "source": []
  },
  {
   "cell_type": "markdown",
   "metadata": {
    "id": "kBUeyQJ1jdBs"
   },
   "source": [
    "### Criando os rótulos: Comprar, Não Comprar ou Vender?\n",
    "\n",
    "Não queremos saber quando vender, mas inclui essa categoria para conseguir identificar quando que o nosso modelo vai sugerir uma compra quando na verdade o melhor momento era vender. Isso significa que o modelo errou \"mais\" do que quando sugeriu comprar e simplesmente o certo era não comprar\n",
    "\n",
    "Regra:\n",
    "1. Subiu mais do que o Ibovespa (ou caiu menos) -> Comprar (Valor = 2)\n",
    "2. Subiu menos do que o Ibovespa até Ibovespa - 2% (ou caiu mais do que Ibovespa até Ibovespa -2%) -> Não Comprar (Valor = 1)\n",
    "3. Subiu menos do que o Ibovespa - 2% (ou caiu mais do que Ibovespa -2%) -> Vender (Valor = 0)"
   ]
  },
  {
   "cell_type": "code",
   "execution_count": null,
   "metadata": {
    "id": "5xSSjTnWjdBs"
   },
   "outputs": [],
   "source": []
  },
  {
   "cell_type": "markdown",
   "metadata": {
    "id": "CRme7A9mjdBs"
   },
   "source": [
    "### Hora de tornar tudo 1 dataframe só"
   ]
  },
  {
   "cell_type": "code",
   "execution_count": null,
   "metadata": {
    "id": "Jwc_8kp8jdBs"
   },
   "outputs": [],
   "source": []
  },
  {
   "cell_type": "markdown",
   "metadata": {
    "id": "fl1oLaQ_jdBs"
   },
   "source": [
    "### Análise Exploratória"
   ]
  },
  {
   "cell_type": "markdown",
   "metadata": {
    "id": "IhW3qczJjdBs"
   },
   "source": [
    "#### 1. Quantidade de Respostas em cada Tipo de Decisão"
   ]
  },
  {
   "cell_type": "code",
   "execution_count": null,
   "metadata": {
    "id": "hGhjG1GkjdBs"
   },
   "outputs": [],
   "source": []
  },
  {
   "cell_type": "markdown",
   "metadata": {
    "id": "mQrS-U1TjdBs"
   },
   "source": [
    "#### 2. Correlação"
   ]
  },
  {
   "cell_type": "code",
   "execution_count": null,
   "metadata": {
    "id": "4uOa2wIAjdBs"
   },
   "outputs": [],
   "source": []
  },
  {
   "cell_type": "markdown",
   "metadata": {
    "id": "dNc9zpxmjdBs"
   },
   "source": [
    "#### Vamos remover Todas as Colunas \"já explicadas\" pelo Ativo Total"
   ]
  },
  {
   "cell_type": "code",
   "execution_count": null,
   "metadata": {
    "id": "1yhdWkFAjdBt"
   },
   "outputs": [],
   "source": []
  },
  {
   "cell_type": "markdown",
   "metadata": {
    "id": "EY55c7aDjdBt"
   },
   "source": [
    "### Vamos partir para Feature Selection\n",
    "\n",
    "Será que todas essas features são importantes mesmo para o nosso modelo? Muitas features nem sempre é bom, se pudermos reduzir sem perder eficiência do nosso modelo, melhor\n",
    "\n",
    "Aqui temos 2 alternativas:\n",
    "\n",
    "1. Seguir com todas as features e depois tentar melhorar o nosso modelo\n",
    "2. Usar algum critério para selecionar as melhores features para prever e criar o modelo a partir apenas dessa seleção menor de features\n",
    "\n",
    "Vou seguir com a opção 2, porque é mais rápida e, caso dê certo, facilita a nossa vida. Se der errado, a gente volta aqui e refaz o processo"
   ]
  },
  {
   "cell_type": "code",
   "execution_count": null,
   "metadata": {
    "id": "LgllPYyQjdBt"
   },
   "outputs": [],
   "source": []
  },
  {
   "cell_type": "markdown",
   "metadata": {
    "id": "2fa7ItbNjdBt"
   },
   "source": [
    "### Aplicação do StandardScaler para melhorar nossos modelos de MachineLearning"
   ]
  },
  {
   "cell_type": "code",
   "execution_count": null,
   "metadata": {
    "id": "cBfB6oL4jdBt"
   },
   "outputs": [],
   "source": []
  },
  {
   "cell_type": "markdown",
   "metadata": {
    "id": "u0FUw6aWjdBt"
   },
   "source": [
    "### Separação dos dados em treino e teste"
   ]
  },
  {
   "cell_type": "code",
   "execution_count": null,
   "metadata": {
    "id": "UDE-ox65jdBt"
   },
   "outputs": [],
   "source": []
  },
  {
   "cell_type": "markdown",
   "metadata": {
    "id": "f_cszvACjdBt"
   },
   "source": [
    "### Criação de um Dummy Classifier (Uma baseline para ver se os nossos modelos são melhores do que puro chute)"
   ]
  },
  {
   "cell_type": "code",
   "execution_count": null,
   "metadata": {
    "id": "VoeQa0SKjdBt"
   },
   "outputs": [],
   "source": []
  },
  {
   "cell_type": "markdown",
   "metadata": {
    "id": "Kan4bVVejdBt"
   },
   "source": [
    "### Métricas de Avaliação\n",
    "\n",
    "- Precisão vai ser nossa métrica principal\n",
    "- Recall pode ser útil, mas precisão no caso de ações é mt mais importante.\n",
    "\n",
    "Explicação: Foto dos Gatos e Cachorros na Wikipedia: https://en.wikipedia.org/wiki/Precision_and_recall"
   ]
  },
  {
   "cell_type": "code",
   "execution_count": null,
   "metadata": {
    "id": "CH7GHDx8jdBt"
   },
   "outputs": [],
   "source": []
  },
  {
   "cell_type": "markdown",
   "metadata": {
    "id": "ljn0REdMjdBt"
   },
   "source": [
    "### Modelos que vamos testar\n",
    "- AdaBoost\n",
    "- Decision Tree\n",
    "- Random Forest\n",
    "- ExtraTree\n",
    "- Gradient Boost\n",
    "- K Nearest Neighbors (KNN)\n",
    "- Logistic Regression\n",
    "- Naive Bayes\n",
    "- Support Vector Machine (SVM)\n",
    "- Rede Neural"
   ]
  },
  {
   "cell_type": "code",
   "execution_count": null,
   "metadata": {
    "id": "nc7rV9igjdBu"
   },
   "outputs": [],
   "source": []
  },
  {
   "cell_type": "markdown",
   "metadata": {
    "id": "05_HJlb-jdBx"
   },
   "source": [
    "### Agora vamos ao tunning do modelo\n",
    "\n",
    "- é bom sempre incluir no tuning os parâmetros \"padrões\" do modelo, se não poder ser que vc só encontre resultados piores"
   ]
  },
  {
   "cell_type": "code",
   "execution_count": null,
   "metadata": {
    "id": "jq6wgw1LjdBx"
   },
   "outputs": [],
   "source": []
  },
  {
   "cell_type": "markdown",
   "metadata": {
    "id": "hFe9Lpy_jdBx"
   },
   "source": [
    "### Vamos seguir então com o Modelo BLA tunado para ser o nosso modelo\n",
    "\n",
    "- Agora ao que interessa...será que vamos conseguir escolher boas ações e ter uma carteira rentável?\n",
    "- Para isso, temos que pegar o último Trimestre (que não usamos para treinar o modelo nem testar) e ver como ele teria saído até o momento em que gravo esse vídeo..."
   ]
  },
  {
   "cell_type": "markdown",
   "metadata": {
    "id": "37EMNqNDjdBx"
   },
   "source": [
    "### Repetindo os passos com a base fundamentos só que pegando apenas o último tri de cada empresa"
   ]
  },
  {
   "cell_type": "code",
   "execution_count": null,
   "metadata": {
    "id": "1W5jQehYjdBx"
   },
   "outputs": [],
   "source": []
  },
  {
   "cell_type": "markdown",
   "metadata": {
    "id": "eaTgk06rjdBy"
   },
   "source": [
    "### Agora fazemos a previsão de decisões"
   ]
  },
  {
   "cell_type": "code",
   "execution_count": null,
   "metadata": {
    "id": "i5_BgaXijdBy"
   },
   "outputs": [],
   "source": []
  }
 ],
 "metadata": {
  "colab": {
   "provenance": []
  },
  "kernelspec": {
   "display_name": "Python 3 (ipykernel)",
   "language": "python",
   "name": "python3"
  },
  "language_info": {
   "codemirror_mode": {
    "name": "ipython",
    "version": 3
   },
   "file_extension": ".py",
   "mimetype": "text/x-python",
   "name": "python",
   "nbconvert_exporter": "python",
   "pygments_lexer": "ipython3",
   "version": "3.12.3"
  }
 },
 "nbformat": 4,
 "nbformat_minor": 4
}
